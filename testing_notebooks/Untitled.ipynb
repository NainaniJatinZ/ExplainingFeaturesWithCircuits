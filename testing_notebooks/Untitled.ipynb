{
 "cells": [
  {
   "cell_type": "code",
   "execution_count": 1,
   "id": "cb9d0840-e60e-4db2-b886-f2ca9c225595",
   "metadata": {},
   "outputs": [
    {
     "name": "stdout",
     "output_type": "stream",
     "text": [
      "/home/jnainani_umass_edu/ExplainingFeaturesWithCircuits\n"
     ]
    }
   ],
   "source": [
    "%cd /home/jnainani_umass_edu/ExplainingFeaturesWithCircuits/"
   ]
  },
  {
   "cell_type": "code",
   "execution_count": 2,
   "id": "6143c3b9-9e00-40b3-8fef-5447509451bb",
   "metadata": {},
   "outputs": [
    {
     "ename": "NameError",
     "evalue": "name 'example_number' is not defined",
     "output_type": "error",
     "traceback": [
      "\u001b[0;31m---------------------------------------------------------------------------\u001b[0m",
      "\u001b[0;31mNameError\u001b[0m                                 Traceback (most recent call last)",
      "Cell \u001b[0;32mIn[2], line 5\u001b[0m\n\u001b[1;32m      3\u001b[0m \u001b[38;5;66;03m# Example usage\u001b[39;00m\n\u001b[1;32m      4\u001b[0m N \u001b[38;5;241m=\u001b[39m \u001b[38;5;241m100\u001b[39m  \u001b[38;5;66;03m# Number of pairs to generate\u001b[39;00m\n\u001b[0;32m----> 5\u001b[0m dataset \u001b[38;5;241m=\u001b[39m f_utils\u001b[38;5;241m.\u001b[39mgenerate_dataset(N, \u001b[43mexample_number\u001b[49m)\n\u001b[1;32m      6\u001b[0m \u001b[38;5;28mprint\u001b[39m(\u001b[38;5;124m\"\u001b[39m\u001b[38;5;124mFirst pair\u001b[39m\u001b[38;5;124m\"\u001b[39m, dataset[\u001b[38;5;241m0\u001b[39m])\n\u001b[1;32m      7\u001b[0m clean_pr \u001b[38;5;241m=\u001b[39m []\n",
      "\u001b[0;31mNameError\u001b[0m: name 'example_number' is not defined"
     ]
    }
   ],
   "source": [
    "import f_utils\n",
    "\n",
    "# Example usage\n",
    "N = 100  # Number of pairs to generate\n",
    "dataset = f_utils.generate_dataset(N, example_number)\n",
    "print(\"First pair\", dataset[0])\n",
    "clean_pr = []\n",
    "corr_pr = []\n",
    "for i, (clean, corrupted) in enumerate(dataset):\n",
    "    clean_pr.append(clean)\n",
    "    corr_pr.append(corrupted)"
   ]
  },
  {
   "cell_type": "code",
   "execution_count": 7,
   "id": "9b578905-d4cc-4c80-85f1-3c049c930907",
   "metadata": {},
   "outputs": [
    {
     "data": {
      "text/plain": [
       "[('What is the output of 59 times 27 ? ',\n",
       "  'What is the output of 59 and 27 ? ')]"
      ]
     },
     "execution_count": 7,
     "metadata": {},
     "output_type": "execute_result"
    }
   ],
   "source": [
    "f_utils.generate_dataset(1, 4)"
   ]
  },
  {
   "cell_type": "code",
   "execution_count": null,
   "id": "daa12674-7f67-4c86-93eb-c9051a3faafc",
   "metadata": {},
   "outputs": [],
   "source": []
  }
 ],
 "metadata": {
  "kernelspec": {
   "display_name": "Python [conda env:.conda-finetuning]",
   "language": "python",
   "name": "conda-env-.conda-finetuning-py"
  },
  "language_info": {
   "codemirror_mode": {
    "name": "ipython",
    "version": 3
   },
   "file_extension": ".py",
   "mimetype": "text/x-python",
   "name": "python",
   "nbconvert_exporter": "python",
   "pygments_lexer": "ipython3",
   "version": "3.10.4"
  }
 },
 "nbformat": 4,
 "nbformat_minor": 5
}
